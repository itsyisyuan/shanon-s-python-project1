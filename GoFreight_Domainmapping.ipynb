{
 "cells": [
  {
   "cell_type": "code",
   "execution_count": 12,
   "metadata": {},
   "outputs": [
    {
     "name": "stdout",
     "output_type": "stream",
     "text": [
      "Requirement already satisfied: pandas in /Library/Frameworks/Python.framework/Versions/3.12/lib/python3.12/site-packages (2.2.3)\n",
      "Requirement already satisfied: numpy>=1.26.0 in /Library/Frameworks/Python.framework/Versions/3.12/lib/python3.12/site-packages (from pandas) (2.2.4)\n",
      "Requirement already satisfied: python-dateutil>=2.8.2 in /Users/shanon/Library/Python/3.12/lib/python/site-packages (from pandas) (2.8.2)\n",
      "Requirement already satisfied: pytz>=2020.1 in /Library/Frameworks/Python.framework/Versions/3.12/lib/python3.12/site-packages (from pandas) (2025.2)\n",
      "Requirement already satisfied: tzdata>=2022.7 in /Library/Frameworks/Python.framework/Versions/3.12/lib/python3.12/site-packages (from pandas) (2025.2)\n",
      "Requirement already satisfied: six>=1.5 in /Users/shanon/Library/Python/3.12/lib/python/site-packages (from python-dateutil>=2.8.2->pandas) (1.16.0)\n",
      "\n",
      "\u001b[1m[\u001b[0m\u001b[34;49mnotice\u001b[0m\u001b[1;39;49m]\u001b[0m\u001b[39;49m A new release of pip is available: \u001b[0m\u001b[31;49m23.2.1\u001b[0m\u001b[39;49m -> \u001b[0m\u001b[32;49m25.0.1\u001b[0m\n",
      "\u001b[1m[\u001b[0m\u001b[34;49mnotice\u001b[0m\u001b[1;39;49m]\u001b[0m\u001b[39;49m To update, run: \u001b[0m\u001b[32;49mpip3 install --upgrade pip\u001b[0m\n",
      "Note: you may need to restart the kernel to use updated packages.\n"
     ]
    }
   ],
   "source": [
    "pip install pandas"
   ]
  },
  {
   "cell_type": "code",
   "execution_count": 13,
   "metadata": {},
   "outputs": [
    {
     "name": "stdout",
     "output_type": "stream",
     "text": [
      "Requirement already satisfied: openpyxl in /Library/Frameworks/Python.framework/Versions/3.12/lib/python3.12/site-packages (3.1.5)\n",
      "Requirement already satisfied: et-xmlfile in /Library/Frameworks/Python.framework/Versions/3.12/lib/python3.12/site-packages (from openpyxl) (2.0.0)\n",
      "\n",
      "\u001b[1m[\u001b[0m\u001b[34;49mnotice\u001b[0m\u001b[1;39;49m]\u001b[0m\u001b[39;49m A new release of pip is available: \u001b[0m\u001b[31;49m23.2.1\u001b[0m\u001b[39;49m -> \u001b[0m\u001b[32;49m25.0.1\u001b[0m\n",
      "\u001b[1m[\u001b[0m\u001b[34;49mnotice\u001b[0m\u001b[1;39;49m]\u001b[0m\u001b[39;49m To update, run: \u001b[0m\u001b[32;49mpip3 install --upgrade pip\u001b[0m\n",
      "Note: you may need to restart the kernel to use updated packages.\n"
     ]
    }
   ],
   "source": [
    "pip install openpyxl"
   ]
  },
  {
   "cell_type": "code",
   "execution_count": 23,
   "metadata": {},
   "outputs": [],
   "source": [
    "file_path=\"domain__mapping_result.xlsx\""
   ]
  },
  {
   "cell_type": "code",
   "execution_count": 24,
   "metadata": {},
   "outputs": [],
   "source": [
    "import pandas as pd"
   ]
  },
  {
   "cell_type": "code",
   "execution_count": 25,
   "metadata": {},
   "outputs": [
    {
     "name": "stdout",
     "output_type": "stream",
     "text": [
      "             Email-domain    HSCompanyDomainName     mapping_check Unnamed: 3  \\\n",
      "0     1tradelogistics.com              atdoor.ca               NaN          X   \n",
      "1            1upcargo.com          siboneycc.com      1upcargo.com          V   \n",
      "2        2atlogistics.com   thetechnodesigns.com      1upcargo.com          V   \n",
      "3               7pgps.com           tbatires.com      1upcargo.com          V   \n",
      "4        ajclogistics.com  jenerallyspeaking.net  2atlogistics.com          V   \n",
      "...                   ...                    ...               ...        ...   \n",
      "8586                  NaN   csfreightconsult.com               NaN        NaN   \n",
      "8587                  NaN            tmforum.org               NaN        NaN   \n",
      "8588                  NaN             adn.net.au               NaN        NaN   \n",
      "8589                  NaN      cs-recruiting.com               NaN        NaN   \n",
      "8590                  NaN      independent.co.uk               NaN        NaN   \n",
      "\n",
      "      Unnamed: 4    Unnamed: 5  Unnamed: 6  \n",
      "0            NaN            V=         NaN  \n",
      "1            NaN            X=       600.0  \n",
      "2            NaN          SUM=       600.0  \n",
      "3            NaN  mapping_rate         0.0  \n",
      "4            NaN           NaN         NaN  \n",
      "...          ...           ...         ...  \n",
      "8586         NaN           NaN         NaN  \n",
      "8587         NaN           NaN         NaN  \n",
      "8588         NaN           NaN         NaN  \n",
      "8589         NaN           NaN         NaN  \n",
      "8590         NaN           NaN         NaN  \n",
      "\n",
      "[8591 rows x 7 columns]\n"
     ]
    }
   ],
   "source": [
    "data=pd.read_excel(file_path, sheet_name='Cargo5 Domain')\n",
    "print(data)"
   ]
  },
  {
   "cell_type": "code",
   "execution_count": 26,
   "metadata": {},
   "outputs": [
    {
     "name": "stdout",
     "output_type": "stream",
     "text": [
      "             Email-domain    HSCompanyDomainName     mapping_check Unnamed: 3  \\\n",
      "0     1tradelogistics.com              atdoor.ca               NaN          X   \n",
      "1            1upcargo.com          siboneycc.com      1upcargo.com          V   \n",
      "2        2atlogistics.com   thetechnodesigns.com      1upcargo.com          V   \n",
      "3               7pgps.com           tbatires.com      1upcargo.com          V   \n",
      "4        ajclogistics.com  jenerallyspeaking.net  2atlogistics.com          V   \n",
      "...                   ...                    ...               ...        ...   \n",
      "8586                  NaN   csfreightconsult.com               NaN        NaN   \n",
      "8587                  NaN            tmforum.org               NaN        NaN   \n",
      "8588                  NaN             adn.net.au               NaN        NaN   \n",
      "8589                  NaN      cs-recruiting.com               NaN        NaN   \n",
      "8590                  NaN      independent.co.uk               NaN        NaN   \n",
      "\n",
      "      Unnamed: 4    Unnamed: 5  Unnamed: 6  \n",
      "0            NaN            V=         NaN  \n",
      "1            NaN            X=       600.0  \n",
      "2            NaN          SUM=       600.0  \n",
      "3            NaN  mapping_rate         0.0  \n",
      "4            NaN           NaN         NaN  \n",
      "...          ...           ...         ...  \n",
      "8586         NaN           NaN         NaN  \n",
      "8587         NaN           NaN         NaN  \n",
      "8588         NaN           NaN         NaN  \n",
      "8589         NaN           NaN         NaN  \n",
      "8590         NaN           NaN         NaN  \n",
      "\n",
      "[8591 rows x 7 columns]\n"
     ]
    }
   ],
   "source": [
    "data_cleaned = data.dropna(subset=[data.columns[1]])  # 刪除包含 NaN 的列或行\n",
    "print(data_cleaned)  # 顯示清理後的數據\n",
    "data=data_cleaned"
   ]
  },
  {
   "cell_type": "code",
   "execution_count": 30,
   "metadata": {},
   "outputs": [
    {
     "name": "stdout",
     "output_type": "stream",
     "text": [
      "             Email-domain    HSCompanyDomainName        mapping_check  \\\n",
      "0     1tradelogistics.com              atdoor.ca  1tradelogistics.com   \n",
      "1            1upcargo.com          siboneycc.com         1upcargo.com   \n",
      "2        2atlogistics.com   thetechnodesigns.com     2atlogistics.com   \n",
      "3               7pgps.com           tbatires.com            7pgps.com   \n",
      "4        ajclogistics.com  jenerallyspeaking.net     ajclogistics.com   \n",
      "...                   ...                    ...                  ...   \n",
      "8586                  NaN   csfreightconsult.com                  NaN   \n",
      "8587                  NaN            tmforum.org                  NaN   \n",
      "8588                  NaN             adn.net.au                  NaN   \n",
      "8589                  NaN      cs-recruiting.com                  NaN   \n",
      "8590                  NaN      independent.co.uk                  NaN   \n",
      "\n",
      "     Unnamed: 3  Unnamed: 4    Unnamed: 5  Unnamed: 6  \n",
      "0             X         NaN            V=         NaN  \n",
      "1             V         NaN            X=       600.0  \n",
      "2             V         NaN          SUM=       600.0  \n",
      "3             V         NaN  mapping_rate         0.0  \n",
      "4             V         NaN           NaN         NaN  \n",
      "...         ...         ...           ...         ...  \n",
      "8586        NaN         NaN           NaN         NaN  \n",
      "8587        NaN         NaN           NaN         NaN  \n",
      "8588        NaN         NaN           NaN         NaN  \n",
      "8589        NaN         NaN           NaN         NaN  \n",
      "8590        NaN         NaN           NaN         NaN  \n",
      "\n",
      "[8591 rows x 7 columns]\n"
     ]
    }
   ],
   "source": [
    "data['mapping_check'] = data['Email-domain'].where(data['Email-domain'].isin(data['HSCompanyDomainName']))\n",
    "\n",
    "print(data)\n",
    "\n",
    "data.to_excel(\"0407_result2.xlsx\", index=False)\n"
   ]
  },
  {
   "cell_type": "code",
   "execution_count": null,
   "metadata": {},
   "outputs": [],
   "source": []
  }
 ],
 "metadata": {
  "kernelspec": {
   "display_name": "Python 3",
   "language": "python",
   "name": "python3"
  },
  "language_info": {
   "codemirror_mode": {
    "name": "ipython",
    "version": 3
   },
   "file_extension": ".py",
   "mimetype": "text/x-python",
   "name": "python",
   "nbconvert_exporter": "python",
   "pygments_lexer": "ipython3",
   "version": "3.12.0"
  }
 },
 "nbformat": 4,
 "nbformat_minor": 2
}
